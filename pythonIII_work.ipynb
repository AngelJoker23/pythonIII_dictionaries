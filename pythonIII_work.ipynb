{
 "cells": [
  {
   "cell_type": "code",
   "execution_count": 1,
   "id": "8e11b31b",
   "metadata": {},
   "outputs": [
    {
     "name": "stdout",
     "output_type": "stream",
     "text": [
      "Shopping Cart Menu:\n",
      "1. Show Cart\n",
      "2. Add Item\n",
      "3. Delete Item\n",
      "4. Quit\n",
      "Please enter your choice (1-4): 2\n",
      "Enter the item to add: bannana\n",
      "Item added to the shopping cart.\n",
      "\n",
      "\n",
      "Shopping Cart Menu:\n",
      "1. Show Cart\n",
      "2. Add Item\n",
      "3. Delete Item\n",
      "4. Quit\n",
      "Please enter your choice (1-4): 2\n",
      "Enter the item to add: apple\n",
      "Item added to the shopping cart.\n",
      "\n",
      "\n",
      "Shopping Cart Menu:\n",
      "1. Show Cart\n",
      "2. Add Item\n",
      "3. Delete Item\n",
      "4. Quit\n",
      "Please enter your choice (1-4): 2\n",
      "Enter the item to add: kiwi\n",
      "Item added to the shopping cart.\n",
      "\n",
      "\n",
      "Shopping Cart Menu:\n",
      "1. Show Cart\n",
      "2. Add Item\n",
      "3. Delete Item\n",
      "4. Quit\n",
      "Please enter your choice (1-4): 1\n",
      "Items in your shopping cart:\n",
      "- bannana\n",
      "- apple\n",
      "- kiwi\n",
      "\n",
      "\n",
      "Shopping Cart Menu:\n",
      "1. Show Cart\n",
      "2. Add Item\n",
      "3. Delete Item\n",
      "4. Quit\n",
      "Please enter your choice (1-4): 3\n",
      "Enter the item to delete: apple\n",
      "Item deleted from the shopping cart.\n",
      "\n",
      "\n",
      "Shopping Cart Menu:\n",
      "1. Show Cart\n",
      "2. Add Item\n",
      "3. Delete Item\n",
      "4. Quit\n",
      "Please enter your choice (1-4): 2\n",
      "Enter the item to add: orange\n",
      "Item added to the shopping cart.\n",
      "\n",
      "\n",
      "Shopping Cart Menu:\n",
      "1. Show Cart\n",
      "2. Add Item\n",
      "3. Delete Item\n",
      "4. Quit\n",
      "Please enter your choice (1-4): 1\n",
      "Items in your shopping cart:\n",
      "- bannana\n",
      "- kiwi\n",
      "- orange\n",
      "\n",
      "\n",
      "Shopping Cart Menu:\n",
      "1. Show Cart\n",
      "2. Add Item\n",
      "3. Delete Item\n",
      "4. Quit\n",
      "Please enter your choice (1-4): 4\n",
      "Thank you for using the shopping cart. Here are the items in your cart:\n",
      "Items in your shopping cart:\n",
      "- bannana\n",
      "- kiwi\n",
      "- orange\n"
     ]
    }
   ],
   "source": [
    "import shopping_cart\n"
   ]
  },
  {
   "cell_type": "code",
   "execution_count": 3,
   "id": "bc172538",
   "metadata": {},
   "outputs": [
    {
     "name": "stdout",
     "output_type": "stream",
     "text": [
      "Enter the length of the house: 45.6\n",
      "Enter the width of the house: 66.9\n",
      "The square footage of the house is: 3050.6400000000003\n",
      "Enter the radius of the circle: 419.9\n",
      "The circumference of the circle is: 2638.3072819999998\n"
     ]
    }
   ],
   "source": [
    "import calculate_square_footage"
   ]
  },
  {
   "cell_type": "code",
   "execution_count": null,
   "id": "649a264f",
   "metadata": {},
   "outputs": [],
   "source": []
  },
  {
   "cell_type": "code",
   "execution_count": null,
   "id": "a578824d",
   "metadata": {},
   "outputs": [],
   "source": []
  }
 ],
 "metadata": {
  "kernelspec": {
   "display_name": "Python 3 (ipykernel)",
   "language": "python",
   "name": "python3"
  },
  "language_info": {
   "codemirror_mode": {
    "name": "ipython",
    "version": 3
   },
   "file_extension": ".py",
   "mimetype": "text/x-python",
   "name": "python",
   "nbconvert_exporter": "python",
   "pygments_lexer": "ipython3",
   "version": "3.10.9"
  }
 },
 "nbformat": 4,
 "nbformat_minor": 5
}
